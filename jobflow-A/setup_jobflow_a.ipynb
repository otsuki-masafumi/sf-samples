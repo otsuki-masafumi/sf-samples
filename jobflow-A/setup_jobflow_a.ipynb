{
 "cells": [
  {
   "cell_type": "markdown",
   "metadata": {},
   "source": [
    "# 1. Create jobflow-a by cloudFormation\n",
    "This template includes state machines, glue jobs and lambda functions"
   ]
  },
  {
   "cell_type": "code",
   "execution_count": null,
   "metadata": {},
   "outputs": [],
   "source": [
    "# Create cloudFormation stack or update if exists\n",
    "def create_or_update_stack(stack_name, template_url, caps, params):\n",
    "    cfn_client = boto3.client('cloudformation')\n",
    "    response = cfn_client.list_stacks()\n",
    "    if 'StackSummaries' in response:\n",
    "        stack_names = [x['StackName'] for x in response['StackSummaries'] if x['StackStatus'] != 'DELETE_COMPLETE']\n",
    "        \n",
    "\n",
    "    if 'StackSummaries' in response and stack_name in stack_names:\n",
    "        print('Update stack {}'.format(stack_name))\n",
    "        cfn_client.update_stack(StackName=stack_name, TemplateURL=template_url, Capabilities=caps, Parameters=params)\n",
    "    else:\n",
    "        print('Create stack {}'.format(stack_name))\n",
    "        cfn_client.create_stack(StackName=stack_name, TemplateURL=template_url, Capabilities=caps, Parameters=params)\n"
   ]
  },
  {
   "cell_type": "code",
   "execution_count": null,
   "metadata": {},
   "outputs": [],
   "source": [
    "# Set stack name and template location\n",
    "stack_name = 'jobflow-a'\n",
    "template_url = 'https://aws-glue-scripts-m3d1pb.s3-ap-northeast-1.amazonaws.com/scripts/master.yaml'\n",
    "caps = ['CAPABILITY_NAMED_IAM']\n",
    "params = [\n",
    "    {'ParameterKey': 'S3bucket', 'ParameterValue': 'aws-glue-scripts-m3d1pb'}, \n",
    "    {'ParameterKey': 'S3bucketData', 'ParameterValue': 'aws-glue-data-m3d1pb'}]\n",
    "\n",
    "# Execute stack creation or updation\n",
    "create_or_update_stack(stack_name, template_url, caps, params)"
   ]
  },
  {
   "cell_type": "markdown",
   "metadata": {},
   "source": [
    "# 2. Create JobDate control table in dynamoDB"
   ]
  },
  {
   "cell_type": "code",
   "execution_count": null,
   "metadata": {},
   "outputs": [],
   "source": [
    "import boto3\n",
    "import time\n",
    "\n",
    "ddb = boto3.client('dynamodb')\n",
    "tabname = 'JobDate'\n",
    "pkey = [{'AttributeName': 'index', 'KeyType': 'HASH'}]\n",
    "pcapacity={'ReadCapacityUnits': 1, 'WriteCapacityUnits': 1}\n",
    "attribute_def = [{'AttributeName': 'index', 'AttributeType': 'N'}]\n",
    "\n",
    "# recreate dynamoDB table\n",
    "tables = ddb.list_tables()\n",
    "if tabname in tables['TableNames']:\n",
    "    # Delete table here\n",
    "    ddb.delete_table(TableName=tabname)\n",
    "    time.sleep(10)\n",
    "\n",
    "ddb.create_table(\n",
    "    TableName=tabname,\n",
    "    KeySchema=pkey,\n",
    "    AttributeDefinitions=attribute_def,\n",
    "    ProvisionedThroughput=pcapacity\n",
    ")"
   ]
  },
  {
   "cell_type": "markdown",
   "metadata": {},
   "source": [
    "# 3. Set job date for jobflow-A"
   ]
  },
  {
   "cell_type": "code",
   "execution_count": null,
   "metadata": {},
   "outputs": [],
   "source": [
    "# Set job date which is used to generate an execution name of state machine.\n",
    "# job date must be unique for each jobflow execution (except for re-run)\n",
    "JobDateData = {'index': {'N': '0'}, 'JobDate': {'S': '20200606'}}\n",
    "\n",
    "ddb.delete_item(TableName=tabname, Key={'index': {'N': '0'}})\n",
    "ddb.put_item(TableName=tabname, Item=JobDateData)\n",
    "ddb.get_item(\n",
    "    TableName=tabname, \n",
    "    Key={'index':{'N': '0'}})"
   ]
  },
  {
   "cell_type": "markdown",
   "metadata": {},
   "source": [
    "# 4. Execute jobflow-a (state machine)"
   ]
  },
  {
   "cell_type": "code",
   "execution_count": null,
   "metadata": {},
   "outputs": [],
   "source": [
    "sm_client = boto3.client('stepfunctions')\n",
    "\n",
    "# Generate state machine arn of jobflow-a\n",
    "region = boto3.session.Session().region_name\n",
    "account_id = boto3.client('sts').get_caller_identity()['Account']\n",
    "sm_arn = 'arn:aws:states:{}:{}:stateMachine:JobFlow'.format(region, account_id)\n",
    "\n",
    "# Execute \n",
    "sm_client.start_execution(stateMachineArn=sm_arn)"
   ]
  }
 ],
 "metadata": {
  "kernelspec": {
   "display_name": "conda_python3",
   "language": "python",
   "name": "conda_python3"
  },
  "language_info": {
   "codemirror_mode": {
    "name": "ipython",
    "version": 3
   },
   "file_extension": ".py",
   "mimetype": "text/x-python",
   "name": "python",
   "nbconvert_exporter": "python",
   "pygments_lexer": "ipython3",
   "version": "3.6.5"
  }
 },
 "nbformat": 4,
 "nbformat_minor": 4
}
